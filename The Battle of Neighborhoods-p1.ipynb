{
 "cells": [
  {
   "cell_type": "markdown",
   "metadata": {},
   "source": [
    "## 1.Introduction/Business Problem"
   ]
  },
  {
   "cell_type": "markdown",
   "metadata": {},
   "source": [
    "Shanghai is one of the world-known metropolises and financial centers with an area of 6340.5 square kilometers and a population of more than 24 million. In such a megacity, renting an apartment is not only tricky but also a time-consuming process. To address this problem to some degree, I want to cluster districts of Shanghai into different groups to help people decide which district suits them most. Renting an apartment is no doubt an important decision, there are simply too many factors that need to take into consideration, but in this project, I will focus on these following 3 factors: \n",
    "\n",
    "1.Monthly rent persquare meter(RMB)   \n",
    "2.Population density  \n",
    "3.Number of popular venues nearby  \n",
    "\n",
    "\n",
    "Here is my reasons for feature selection:\n",
    "\n",
    "1.The reason I chose \"Monthly rent per square meter\" is simply because it is a decisive factor when it comes to renting an apartment. For many people, when they decide to rent a room, the cost is certainly something they would take into consideration.  \n",
    "2.\"Population density\" is a vital factor too, it is something related to one's living quality. A spot with high population density indicts more noises and crowed.  \n",
    "3.\"Number of popular venues nearby\" is also a significant element related to living quality. It's more convenient to live in a place with more facilities around.   "
   ]
  },
  {
   "cell_type": "markdown",
   "metadata": {},
   "source": [
    "## 2.Data section"
   ]
  },
  {
   "cell_type": "markdown",
   "metadata": {},
   "source": [
    "To accomplish my project, here are my data selection and sources:\n",
    "\n",
    "1.Shanghai geojson data: http://datav.aliyun.com/tools/atlas/#&lat=30.332329214580188&lng=106.72278672066881&zoom=3.5\n",
    "\n",
    "2.Rent of different districts in Shanghai: https://sh.zu.ke.com/zufang/rs/\n",
    "\n",
    "3.population density of each districts in Shanghai: https://www.statista.com/statistics/1081875/china-population-density-in-shanghai-by-district/\n",
    "\n",
    "4.Venues nearby in different districts：Foursquare API"
   ]
  }
 ],
 "metadata": {
  "kernelspec": {
   "display_name": "Python 3",
   "language": "python",
   "name": "python3"
  },
  "language_info": {
   "codemirror_mode": {
    "name": "ipython",
    "version": 3
   },
   "file_extension": ".py",
   "mimetype": "text/x-python",
   "name": "python",
   "nbconvert_exporter": "python",
   "pygments_lexer": "ipython3",
   "version": "3.7.6"
  }
 },
 "nbformat": 4,
 "nbformat_minor": 4
}
